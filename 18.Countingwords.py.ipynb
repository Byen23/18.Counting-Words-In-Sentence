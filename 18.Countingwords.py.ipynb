{
 "cells": [
  {
   "cell_type": "code",
   "execution_count": 1,
   "metadata": {
    "ExecuteTime": {
     "end_time": "2019-01-18T01:19:09.708868Z",
     "start_time": "2019-01-18T01:18:55.329982Z"
    }
   },
   "outputs": [
    {
     "name": "stdout",
     "output_type": "stream",
     "text": [
      "Enter a sentence: This sentence has no long words\n",
      "There are 6 words.\n",
      "The average word length is 4.333333333333333\n"
     ]
    }
   ],
   "source": [
    "# -*- coding: utf-8 -*-\n",
    "\"\"\"\n",
    "Created on Thu Jan 17,2019\n",
    "\n",
    "File: Countingwords.py\n",
    "@author: Byen23\n",
    "\"\"\"\n",
    "\n",
    "# This is to be my 18th program to be uploaded  to Github.\n",
    "\n",
    "sentence = input(\"Enter a sentence: \")\n",
    "listofwords = sentence.split()\n",
    "print(\"There are\", len(listofwords), \"words.\")\n",
    "sum = 0\n",
    "for word in listofwords:\n",
    "\tsum += len(word)\n",
    "print(\"The average word length is\", sum / len(listofwords))\n",
    "\n"
   ]
  }
 ],
 "metadata": {
  "kernelspec": {
   "display_name": "Python 3",
   "language": "python",
   "name": "python3"
  },
  "language_info": {
   "codemirror_mode": {
    "name": "ipython",
    "version": 3
   },
   "file_extension": ".py",
   "mimetype": "text/x-python",
   "name": "python",
   "nbconvert_exporter": "python",
   "pygments_lexer": "ipython3",
   "version": "3.6.8"
  }
 },
 "nbformat": 4,
 "nbformat_minor": 2
}
